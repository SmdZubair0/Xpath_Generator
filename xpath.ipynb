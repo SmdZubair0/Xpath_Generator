{
 "cells": [
  {
   "cell_type": "code",
   "execution_count": 1,
   "metadata": {},
   "outputs": [],
   "source": [
    "import sys\n",
    "from Utils import (\n",
    "    get_dom,\n",
    "    Xpath_generator\n",
    ")\n",
    "from bs4 import BeautifulSoup"
   ]
  },
  {
   "cell_type": "code",
   "execution_count": 8,
   "metadata": {},
   "outputs": [],
   "source": [
    "url = input(\"Enter url : \")\n",
    "# url = \"https://digitalcampus.msmfclasses.com:94/Default\""
   ]
  },
  {
   "cell_type": "code",
   "execution_count": 9,
   "metadata": {},
   "outputs": [
    {
     "name": "stdout",
     "output_type": "stream",
     "text": [
      "URL fetched successfully\n"
     ]
    }
   ],
   "source": [
    "soup = get_dom(url)"
   ]
  },
  {
   "cell_type": "code",
   "execution_count": 10,
   "metadata": {},
   "outputs": [],
   "source": [
    "gen = Xpath_generator(soup.body)"
   ]
  },
  {
   "cell_type": "code",
   "execution_count": 1,
   "metadata": {},
   "outputs": [],
   "source": [
    "import lxml"
   ]
  },
  {
   "cell_type": "code",
   "execution_count": 2,
   "metadata": {},
   "outputs": [
    {
     "data": {
      "text/plain": [
       "['__builtins__',\n",
       " '__cached__',\n",
       " '__doc__',\n",
       " '__file__',\n",
       " '__loader__',\n",
       " '__name__',\n",
       " '__package__',\n",
       " '__path__',\n",
       " '__spec__',\n",
       " '__version__',\n",
       " 'get_include']"
      ]
     },
     "execution_count": 2,
     "metadata": {},
     "output_type": "execute_result"
    }
   ],
   "source": [
    "dir(lxml)"
   ]
  },
  {
   "cell_type": "code",
   "execution_count": null,
   "metadata": {},
   "outputs": [],
   "source": [
    "lxml(\"\")"
   ]
  },
  {
   "cell_type": "code",
   "execution_count": null,
   "metadata": {},
   "outputs": [],
   "source": []
  },
  {
   "cell_type": "code",
   "execution_count": null,
   "metadata": {},
   "outputs": [],
   "source": []
  },
  {
   "cell_type": "code",
   "execution_count": 2,
   "metadata": {},
   "outputs": [],
   "source": [
    "# soup = get_dom(url)\n",
    "\n",
    "soup = BeautifulSoup('''<!DOCTYPE html>\n",
    "<html lang=\"en\">\n",
    "\n",
    "<head>\n",
    "    <meta charset=\"UTF-8\">\n",
    "    <meta name=\"viewport\" content=\"width=device-width, initial-scale=1.0\">\n",
    "    <link rel=\"icon\" href=\"favicon.ico\" type=\"image/x-icon\">\n",
    "    <title>Netflix India – Watch TV Shows Online, Watch Movies Online</title>\n",
    "    <link rel=\"stylesheet\" href=\"style.css\">\n",
    "</head>\n",
    "\n",
    "<body>\n",
    "    <div class=\"main\" id=\"id\">\n",
    "\n",
    "        <nav>\n",
    "            <span><img width=\"150\" src=\"images/logo.svg\" alt=\"\"></span>\n",
    "            <div class=\"nav-btns\">\n",
    "                <button class=\"lang\">English &#129171;</button>\n",
    "                <button class=\"signin\">Sign In</button>\n",
    "            </div>\n",
    "        </nav>\n",
    "\n",
    "        <div name=\"name1\" class=\"box\"></div>\n",
    "\n",
    "        <div class=\"maintext\">\n",
    "            <span>Unlimited movies, TV shows and more</span>\n",
    "            <span>Watch anywhere. Cancel anytime.</span>\n",
    "            <span>Ready to watch? Enter your email or mobile number to create or restart your membership.</span>\n",
    "            <div class=\"maintext-inputs\">\n",
    "                <input type=\"text\" placeholder=\"Email or mobile number\" class=\"input\">\n",
    "                <button class=\"btn-gs\">Get Started &nbsp; &gt;</button>\n",
    "            </div>\n",
    "        </div>\n",
    "    </div>\n",
    "\n",
    "    <div class=\"seperation\"></div>\n",
    "\n",
    "    <div class=\"block\">\n",
    "\n",
    "        <div class=\"block-text\">\n",
    "            <span>Enjoy on your TV</span>\n",
    "            <span>Watch on smart TVs, PlayStation, Xbox, Chromecast, Apple TV, Blu-ray players and more.</span>\n",
    "        </div>\n",
    "\n",
    "        <div class=\"block-img\">\n",
    "            <img src=\"images/tv.png\" alt=\"\">\n",
    "            <video class=\"vid1\" src=\"videos/1st.m4v\" autoplay loop muted></video>\n",
    "        </div>\n",
    "\n",
    "    </div>\n",
    "\n",
    "    <div class=\"seperation\"></div>\n",
    "\n",
    "    <div class=\"block\">\n",
    "\n",
    "        <div class=\"block-img\">\n",
    "            <img src=\"images/tv2.png\" alt=\"\">\n",
    "            <video class=\"vid2\" src=\"videos/2nd.m4v\" autoplay loop muted></video>\n",
    "        </div>\n",
    "\n",
    "        <div class=\"block-text\">\n",
    "            <span>Watch everywhere</span>\n",
    "            <span>Stream unlimited films and TV programmes on your phone, tablet, laptop and TV.</span>\n",
    "        </div>\n",
    "\n",
    "    </div>\n",
    "\n",
    "    <div class=\"seperation\"></div>\n",
    "\n",
    "    <div class=\"block\">\n",
    "\n",
    "        <div class=\"block-text\">\n",
    "            <span>Create profiles for children</span>\n",
    "            <span>Send children on adventures with their favourite characters in a space made just for them – free with\n",
    "                your membership.</span>\n",
    "        </div>\n",
    "\n",
    "        <div class=\"block-img\">\n",
    "            <img src=\"images/tv3.png\" alt=\"\">\n",
    "        </div>\n",
    "\n",
    "    </div>\n",
    "\n",
    "    <div class=\"seperation\"></div>\n",
    "\n",
    "    <div class=\"block\">\n",
    "\n",
    "        <div class=\"block-img\">\n",
    "            <img src=\"images/tv4.jpg\" alt=\"\">\n",
    "            <div class=\"downloading\">\n",
    "                <img src=\"images/tv5.png\" alt=\"\">\n",
    "                <div class=\"downloading-text\">\n",
    "                    <span>Stranger Things</span>\n",
    "                    <span>Downloading...</span>\n",
    "                </div>\n",
    "            </div>\n",
    "        </div>\n",
    "\n",
    "        <div class=\"block-text\">\n",
    "            <span>Download your programmes to watch offline</span>\n",
    "            <span>Watch on a plane, train or submarine...</span>\n",
    "        </div>\n",
    "\n",
    "    </div>\n",
    "\n",
    "    <div class=\"seperation\"></div>\n",
    "\n",
    "    <div class=\"faqs\">\n",
    "\n",
    "        <p>Frequently Asked Questions</p>\n",
    "        <div class=\"tab\">\n",
    "            <p>What is Netflix?</p>\n",
    "            <div class=\"plus\">+</div>\n",
    "        </div>\n",
    "\n",
    "        <div class=\"tab\">\n",
    "            <p>How much does Netflix cost?</p>\n",
    "            <div class=\"plus\">+</div>\n",
    "        </div>\n",
    "\n",
    "        <div class=\"tab\">\n",
    "            <p>Where can I watch?</p>\n",
    "            <div class=\"plus\">+</div>\n",
    "        </div>\n",
    "\n",
    "        <div class=\"tab\">\n",
    "            <p>How do I cancel?</p>\n",
    "            <div class=\"plus\">+</div>\n",
    "        </div>\n",
    "\n",
    "        <div class=\"tab\">\n",
    "            <p>What can I watch on Netflix?</p>\n",
    "            <div class=\"plus\">+</div>\n",
    "        </div>\n",
    "\n",
    "        <div class=\"tab\">\n",
    "            <p>Is Netflix good for children?</p>\n",
    "            <div class=\"plus\">+</div>\n",
    "        </div>\n",
    "\n",
    "        <span>Ready to watch? Enter your email to create or restart your membership.</span>\n",
    "\n",
    "        <div class=\"faqs-input\">\n",
    "            <input type=\"text\" class=\"input\" placeholder=\"Email address\">\n",
    "            <button class=\"btn-gs\">Get Started &nbsp &gt;</button>\n",
    "        </div>\n",
    "\n",
    "    </div>\n",
    "\n",
    "    <div class=\"seperation\"></div>\n",
    "\n",
    "    <footer class=\"footer\">\n",
    "        Questions? Call 1-844-505-2993\n",
    "        <div class=\"fs\">\n",
    "            <div class=\"f\">\n",
    "                <a href=\"#\">FAQ</a>\n",
    "                <a href=\"#\">Investor Relations</a>\n",
    "                <a href=\"#\">Buy gift cards</a>\n",
    "                <a href=\"#\">Cookie Preferences</a>\n",
    "                <a href=\"#\">Legal Notices</a>\n",
    "            </div>\n",
    "            <div class=\"f\">\n",
    "                <a href=\"#\">Help Centre</a>\n",
    "                <a href=\"#\">Jobs</a>\n",
    "                <a href=\"#\">Ways to Watch</a>\n",
    "                <a href=\"#\">Corporate Information</a>\n",
    "                <a href=\"#\">Only on Netflix</a>\n",
    "            </div>\n",
    "            <div name=\"name1\" class=\"f\">\n",
    "                <a href=\"#\">Account</a>\n",
    "                <a href=\"#\">Netflix Shop</a>\n",
    "                <a href=\"#\">Term of Use</a>\n",
    "                <a href=\"#\">Contact Us</a>\n",
    "                <a href=\"#\">Do not sell or share my personal information</a>\n",
    "            </div>\n",
    "            <div class=\"f\">\n",
    "                <a href=\"#\">Media Centre</a>\n",
    "                <a href=\"#\">Redeem gift cards</a>\n",
    "                <a href=\"#\">Privacy</a>\n",
    "                <a href=\"#\">Speed Test</a>\n",
    "                <a href=\"#\">Advert choices</a>\n",
    "            </div>\n",
    "        </div>\n",
    "\n",
    "        <div>\n",
    "            <button class=\"lang\">English &#129171;</button>\n",
    "        </div>\n",
    "\n",
    "    </footer>\n",
    "</body>\n",
    "\n",
    "</html>''', 'html.parser')\n",
    "if soup is None:\n",
    "    sys.exit(1000)\n",
    "\n",
    "gen = Xpath_generator(soup.body)"
   ]
  },
  {
   "cell_type": "code",
   "execution_count": 3,
   "metadata": {},
   "outputs": [],
   "source": [
    "ele = soup.find('body')"
   ]
  },
  {
   "cell_type": "code",
   "execution_count": 4,
   "metadata": {},
   "outputs": [
    {
     "name": "stdout",
     "output_type": "stream",
     "text": [
      "112\n"
     ]
    },
    {
     "data": {
      "text/plain": [
       "{1: 'id',\n",
       " 2: \"//div[@id = 'id']/nav\",\n",
       " 3: \"//div[@id = 'id']/nav/span\",\n",
       " 4: \"//div[@id = 'id']/nav/span/img\",\n",
       " 5: \"//div[contains(@class, 'nav-btns')]\",\n",
       " 104: \"//button[contains(@class, 'lang') and contains(text(), 'English 🢓')]\",\n",
       " 7: \"//button[contains(@class, 'signin')]\",\n",
       " 8: \"//div[@name = 'name1' and contains(@class, 'box')\",\n",
       " 9: \"//div[contains(@class, 'maintext')]\",\n",
       " 10: \"//div[contains(@class, 'maintext')]/span\",\n",
       " 11: \"//div[contains(@class, 'maintext')]/span\",\n",
       " 12: \"//div[contains(@class, 'maintext')]/span\",\n",
       " 13: \"//div[contains(@class, 'maintext-inputs')]\",\n",
       " 14: \"//input[contains(@class, 'input') and @type = 'text']\",\n",
       " 75: \"//button[contains(@class, 'btn-gs') and contains(text(), 'Get Starte')]\",\n",
       " 76: '//div',\n",
       " 17: \"//div[contains(@class, 'block') and contains(text(), '\\n\\nEnjoy on')]\",\n",
       " 18: \"//div[contains(@class, 'block-text') and contains(text(), '\\nEnjoy on ')]\",\n",
       " 19: \"//div[contains(@class, 'block-text') and contains(text(), '\\nEnjoy on ')]/span\",\n",
       " 20: \"//div[contains(@class, 'block-text') and contains(text(), '\\nEnjoy on ')]/span\",\n",
       " 21: \"//div[contains(@class, 'block-img') and contains(text(), '\\n\\n\\n')]\",\n",
       " 22: \"//div[contains(@class, 'block-img') and contains(text(), '\\n\\n\\n')]/img\",\n",
       " 23: \"//video[contains(@class, 'vid1')]\",\n",
       " 25: \"//div[contains(@class, 'block') and contains(text(), '\\n\\n\\n\\n\\n\\nWatc')]\",\n",
       " 26: \"//div[contains(@class, 'block-img') and contains(text(), '\\n\\n\\n')]\",\n",
       " 27: \"//div[contains(@class, 'block-img') and contains(text(), '\\n\\n\\n')]/img\",\n",
       " 28: \"//video[contains(@class, 'vid2')]\",\n",
       " 29: \"//div[contains(@class, 'block-text') and contains(text(), '\\nWatch eve')]\",\n",
       " 30: \"//div[contains(@class, 'block-text') and contains(text(), '\\nWatch eve')]/span\",\n",
       " 31: \"//div[contains(@class, 'block-text') and contains(text(), '\\nWatch eve')]/span\",\n",
       " 33: \"//div[contains(@class, 'block') and contains(text(), '\\n\\nCreate p')]\",\n",
       " 34: \"//div[contains(@class, 'block-text') and contains(text(), '\\nCreate pr')]\",\n",
       " 35: \"//div[contains(@class, 'block-text') and contains(text(), '\\nCreate pr')]/span\",\n",
       " 36: \"//div[contains(@class, 'block-text') and contains(text(), '\\nCreate pr')]/span\",\n",
       " 37: \"//div[contains(@class, 'block-img') and contains(text(), '\\n\\n')]\",\n",
       " 38: \"//div[contains(@class, 'block-img') and contains(text(), '\\n\\n')]/img\",\n",
       " 40: \"//div[contains(@class, 'block') and contains(text(), '\\n\\n\\n\\n\\n\\nStra')]\",\n",
       " 41: \"//div[contains(@class, 'block-img') and contains(text(), '\\n\\n\\n\\n\\nStran')]\",\n",
       " 42: \"//div[contains(@class, 'block-img') and contains(text(), '\\n\\n\\n\\n\\nStran')]/img\",\n",
       " 43: \"//div[contains(@class, 'downloading')]\",\n",
       " 44: \"//div[contains(@class, 'downloading')]/img\",\n",
       " 45: \"//div[contains(@class, 'downloading-text')]\",\n",
       " 46: \"//div[contains(@class, 'downloading-text')]/span\",\n",
       " 47: \"//div[contains(@class, 'downloading-text')]/span\",\n",
       " 48: \"//div[contains(@class, 'block-text') and contains(text(), '\\nDownload ')]\",\n",
       " 49: \"//div[contains(@class, 'block-text') and contains(text(), '\\nDownload ')]/span\",\n",
       " 50: \"//div[contains(@class, 'block-text') and contains(text(), '\\nDownload ')]/span\",\n",
       " 52: \"//div[contains(@class, 'faqs')]\",\n",
       " 53: \"//div[contains(@class, 'faqs')]/p\",\n",
       " 54: \"//div[contains(@class, 'tab') and contains(text(), '\\nWhat is N')]\",\n",
       " 55: \"//div[contains(@class, 'tab') and contains(text(), '\\nWhat is N')]/p\",\n",
       " 71: \"//div[contains(@class, 'plus') and contains(text(), '+')]\",\n",
       " 57: \"//div[contains(@class, 'tab') and contains(text(), '\\nHow much ')]\",\n",
       " 58: \"//div[contains(@class, 'tab') and contains(text(), '\\nHow much ')]/p\",\n",
       " 60: \"//div[contains(@class, 'tab') and contains(text(), '\\nWhere can')]\",\n",
       " 61: \"//div[contains(@class, 'tab') and contains(text(), '\\nWhere can')]/p\",\n",
       " 63: \"//div[contains(@class, 'tab') and contains(text(), '\\nHow do I ')]\",\n",
       " 64: \"//div[contains(@class, 'tab') and contains(text(), '\\nHow do I ')]/p\",\n",
       " 66: \"//div[contains(@class, 'tab') and contains(text(), '\\nWhat can ')]\",\n",
       " 67: \"//div[contains(@class, 'tab') and contains(text(), '\\nWhat can ')]/p\",\n",
       " 69: \"//div[contains(@class, 'tab') and contains(text(), '\\nIs Netfli')]\",\n",
       " 70: \"//div[contains(@class, 'tab') and contains(text(), '\\nIs Netfli')]/p\",\n",
       " 72: \"//div[contains(@class, 'faqs')]/span\",\n",
       " 73: \"//div[contains(@class, 'faqs-input')]\",\n",
       " 74: \"//input[contains(@class, 'input') and @type = 'text']\",\n",
       " 77: \"//footer[contains(@class, 'footer')]\",\n",
       " 78: \"//div[contains(@class, 'fs')]\",\n",
       " 79: \"//div[contains(@class, 'f') and contains(text(), '\\nFAQ\\nInves')]\",\n",
       " 80: \"//div[contains(@class, 'f') and contains(text(), '\\nFAQ\\nInves')]/a\",\n",
       " 81: \"//div[contains(@class, 'f') and contains(text(), '\\nFAQ\\nInves')]/a\",\n",
       " 82: \"//div[contains(@class, 'f') and contains(text(), '\\nFAQ\\nInves')]/a\",\n",
       " 83: \"//div[contains(@class, 'f') and contains(text(), '\\nFAQ\\nInves')]/a\",\n",
       " 84: \"//div[contains(@class, 'f') and contains(text(), '\\nFAQ\\nInves')]/a\",\n",
       " 85: \"//div[contains(@class, 'f') and contains(text(), '\\nHelp Cent')]\",\n",
       " 86: \"//div[contains(@class, 'f') and contains(text(), '\\nHelp Cent')]/a\",\n",
       " 87: \"//div[contains(@class, 'f') and contains(text(), '\\nHelp Cent')]/a\",\n",
       " 88: \"//div[contains(@class, 'f') and contains(text(), '\\nHelp Cent')]/a\",\n",
       " 89: \"//div[contains(@class, 'f') and contains(text(), '\\nHelp Cent')]/a\",\n",
       " 90: \"//div[contains(@class, 'f') and contains(text(), '\\nHelp Cent')]/a\",\n",
       " 91: \"//div[@name = 'name1' and contains(@class, 'f')\",\n",
       " 92: \"//div[@name = 'name1' and contains(@class, 'f')/a\",\n",
       " 93: \"//div[@name = 'name1' and contains(@class, 'f')/a\",\n",
       " 94: \"//div[@name = 'name1' and contains(@class, 'f')/a\",\n",
       " 95: \"//div[@name = 'name1' and contains(@class, 'f')/a\",\n",
       " 96: \"//div[@name = 'name1' and contains(@class, 'f')/a\",\n",
       " 97: \"//div[contains(@class, 'f') and contains(text(), '\\nMedia Cen')]\",\n",
       " 98: \"//div[contains(@class, 'f') and contains(text(), '\\nMedia Cen')]/a\",\n",
       " 99: \"//div[contains(@class, 'f') and contains(text(), '\\nMedia Cen')]/a\",\n",
       " 100: \"//div[contains(@class, 'f') and contains(text(), '\\nMedia Cen')]/a\",\n",
       " 101: \"//div[contains(@class, 'f') and contains(text(), '\\nMedia Cen')]/a\",\n",
       " 102: \"//div[contains(@class, 'f') and contains(text(), '\\nMedia Cen')]/a\",\n",
       " 103: \"//footer[contains(@class, 'footer')]/div\"}"
      ]
     },
     "execution_count": 4,
     "metadata": {},
     "output_type": "execute_result"
    }
   ],
   "source": [
    "gen.generate_xpath()"
   ]
  },
  {
   "cell_type": "code",
   "execution_count": null,
   "metadata": {},
   "outputs": [],
   "source": []
  },
  {
   "cell_type": "code",
   "execution_count": null,
   "metadata": {},
   "outputs": [],
   "source": []
  },
  {
   "cell_type": "code",
   "execution_count": 63,
   "metadata": {},
   "outputs": [],
   "source": [
    "ELEMENT_IDS = {}\n",
    "XPATHS = {}"
   ]
  },
  {
   "cell_type": "code",
   "execution_count": 64,
   "metadata": {},
   "outputs": [],
   "source": [
    "id = 1\n",
    "for element in elements:\n",
    "    ELEMENT_IDS[element] = id\n",
    "    id += 1"
   ]
  },
  {
   "cell_type": "code",
   "execution_count": 65,
   "metadata": {},
   "outputs": [],
   "source": [
    "def generate_tree(element):\n",
    "    if element.parent in ELEMENT_IDS.keys():\n",
    "        if XPATHS[ELEMENT_IDS[element.parent]][0] != '/':\n",
    "            return f\"//{element.parent.name}[@id = {element.parent.get('id')}]/{element.name}\"\n",
    "        return f\"{XPATHS[ELEMENT_IDS[element.parent]]}/{element.name}\"\n",
    "    else:\n",
    "        return f\"//{element.name}\"\n",
    "    "
   ]
  },
  {
   "cell_type": "code",
   "execution_count": 1,
   "metadata": {},
   "outputs": [
    {
     "ename": "SyntaxError",
     "evalue": "f-string: expecting '}' (1425867725.py, line 4)",
     "output_type": "error",
     "traceback": [
      "\u001b[1;36m  Cell \u001b[1;32mIn[1], line 4\u001b[1;36m\u001b[0m\n\u001b[1;33m    return f\"//{element.name}[contains(@class, {\" \".join(attribute_values)})]\"\u001b[0m\n\u001b[1;37m                                                                              ^\u001b[0m\n\u001b[1;31mSyntaxError\u001b[0m\u001b[1;31m:\u001b[0m f-string: expecting '}'\n"
     ]
    }
   ],
   "source": [
    "def find_class_path(self, attrs, element):\n",
    "        attribute_values = attrs['çlass'][:3]\n",
    "        if len(self.soup.find_all(attrs={'class' : attribute_values})) == 1:\n",
    "            return f\"//{element.name}[contains(@class, {\" \".join(attribute_values)})]\"\n",
    "        else:\n",
    "            if len(attrs) > 1:\n",
    "                for attr in attrs.keys():\n",
    "                    if attr != 'class':\n",
    "                        attr_val = attrs[attr]\n",
    "                        return f\"//{element.name}[@{'class'} = '{\" \".join(attribute_values)}' and @{attr} = '{attr_val}']\"\n",
    "                        break\n",
    "            else:\n",
    "                if len(element.text) > 0:\n",
    "                    return f\"//{element.name}[contains(@class, '{\" \".join(attribute_values)}') and contains(text(), '{element.text[:10]}')]\"\n",
    "                else:\n",
    "                    return self.generate_tree(element)\n"
   ]
  },
  {
   "cell_type": "code",
   "execution_count": 66,
   "metadata": {},
   "outputs": [],
   "source": [
    "def find_second_attribute(attrs, attribute1,attribute_value, element):\n",
    "    if len(soup.find_all(attrs={attribute1 : attribute_value})) == 1:\n",
    "        return f\"//{element.name}[@{attribute1} = '{attribute_value}']\"\n",
    "    else:\n",
    "        if len(attrs) > 1:\n",
    "            for attr in attrs.keys():\n",
    "                if attr != attribute1:\n",
    "                    attr_val = attrs[attr]\n",
    "                    if attr == 'class':\n",
    "                        attr_val = attr_val[0]\n",
    "                    return f\"//{element.name}[@{attribute1} = '{attribute_value}' and @{attr} = '{attr_val}']\"\n",
    "                    break\n",
    "        else:\n",
    "            if len(element.text) > 0:\n",
    "                return f\"//{element.name}[@{attribute1} = '{attribute_value}' and contains(text(), '{element.text[:10]}')]\"\n",
    "            else:\n",
    "                return generate_tree(element)"
   ]
  },
  {
   "cell_type": "code",
   "execution_count": 67,
   "metadata": {},
   "outputs": [],
   "source": [
    "def generate_xpath(element):\n",
    "    attrs = element.attrs\n",
    "    \n",
    "    if 'id' in attrs.keys():  # If id is present simply take ID\n",
    "        XPATHS[ELEMENT_IDS[element]] = attrs['id']\n",
    "    \n",
    "    elif 'name' in attrs.keys():  # If name is present check if itself can become locator\n",
    "        XPATHS[ELEMENT_IDS[element]] = find_second_attribute(attrs,\n",
    "                              attribute1='name',\n",
    "                              attribute_value=attrs['name'],\n",
    "                              element=element)\n",
    "                    \n",
    "    elif 'class' in attrs.keys(): # If class is present check if itself can become locator\n",
    "        XPATHS[ELEMENT_IDS[element]] = find_second_attribute(attrs,\n",
    "                                                                  attribute1='class',\n",
    "                                                                  attribute_value=attrs['class'][0],\n",
    "                                                                  element=element)\n",
    "    else:\n",
    "        XPATHS[ELEMENT_IDS[element]] = generate_tree(element)\n",
    "    "
   ]
  },
  {
   "cell_type": "code",
   "execution_count": 68,
   "metadata": {},
   "outputs": [],
   "source": [
    "for element in elements:\n",
    "    generate_xpath(element)"
   ]
  },
  {
   "cell_type": "code",
   "execution_count": 69,
   "metadata": {},
   "outputs": [
    {
     "data": {
      "text/plain": [
       "{1: 'id',\n",
       " 2: '//div[@id = id]/nav',\n",
       " 3: '//div[@id = id]/nav/span',\n",
       " 4: '//div[@id = id]/nav/span/img',\n",
       " 5: \"//div[@class = 'nav-btns']\",\n",
       " 104: \"//button[@class = 'lang' and contains(text(), 'English 🢓')]\",\n",
       " 7: \"//button[@class = 'signin']\",\n",
       " 8: \"//div[@name = 'name1' and @class = 'box']\",\n",
       " 9: \"//div[@class = 'maintext']\",\n",
       " 10: \"//div[@class = 'maintext']/span\",\n",
       " 11: \"//div[@class = 'maintext']/span\",\n",
       " 12: \"//div[@class = 'maintext']/span\",\n",
       " 13: \"//div[@class = 'maintext-inputs']\",\n",
       " 14: \"//input[@class = 'input' and @type = 'text']\",\n",
       " 75: \"//button[@class = 'btn-gs' and contains(text(), 'Get Starte')]\",\n",
       " 76: '//div',\n",
       " 17: \"//div[@class = 'block' and contains(text(), '\\n\\nEnjoy on')]\",\n",
       " 18: \"//div[@class = 'block-text' and contains(text(), '\\nEnjoy on ')]\",\n",
       " 19: \"//div[@class = 'block-text' and contains(text(), '\\nEnjoy on ')]/span\",\n",
       " 20: \"//div[@class = 'block-text' and contains(text(), '\\nEnjoy on ')]/span\",\n",
       " 21: \"//div[@class = 'block-img' and contains(text(), '\\n\\n\\n')]\",\n",
       " 22: \"//div[@class = 'block-img' and contains(text(), '\\n\\n\\n')]/img\",\n",
       " 23: \"//video[@class = 'vid1']\",\n",
       " 25: \"//div[@class = 'block' and contains(text(), '\\n\\n\\n\\n\\n\\nWatc')]\",\n",
       " 26: \"//div[@class = 'block-img' and contains(text(), '\\n\\n\\n')]\",\n",
       " 27: \"//div[@class = 'block-img' and contains(text(), '\\n\\n\\n')]/img\",\n",
       " 28: \"//video[@class = 'vid2']\",\n",
       " 29: \"//div[@class = 'block-text' and contains(text(), '\\nWatch eve')]\",\n",
       " 30: \"//div[@class = 'block-text' and contains(text(), '\\nWatch eve')]/span\",\n",
       " 31: \"//div[@class = 'block-text' and contains(text(), '\\nWatch eve')]/span\",\n",
       " 33: \"//div[@class = 'block' and contains(text(), '\\n\\nCreate p')]\",\n",
       " 34: \"//div[@class = 'block-text' and contains(text(), '\\nCreate pr')]\",\n",
       " 35: \"//div[@class = 'block-text' and contains(text(), '\\nCreate pr')]/span\",\n",
       " 36: \"//div[@class = 'block-text' and contains(text(), '\\nCreate pr')]/span\",\n",
       " 37: \"//div[@class = 'block-img' and contains(text(), '\\n\\n')]\",\n",
       " 38: \"//div[@class = 'block-img' and contains(text(), '\\n\\n')]/img\",\n",
       " 40: \"//div[@class = 'block' and contains(text(), '\\n\\n\\n\\n\\n\\nStra')]\",\n",
       " 41: \"//div[@class = 'block-img' and contains(text(), '\\n\\n\\n\\n\\nStran')]\",\n",
       " 42: \"//div[@class = 'block-img' and contains(text(), '\\n\\n\\n\\n\\nStran')]/img\",\n",
       " 43: \"//div[@class = 'downloading']\",\n",
       " 44: \"//div[@class = 'downloading']/img\",\n",
       " 45: \"//div[@class = 'downloading-text']\",\n",
       " 46: \"//div[@class = 'downloading-text']/span\",\n",
       " 47: \"//div[@class = 'downloading-text']/span\",\n",
       " 48: \"//div[@class = 'block-text' and contains(text(), '\\nDownload ')]\",\n",
       " 49: \"//div[@class = 'block-text' and contains(text(), '\\nDownload ')]/span\",\n",
       " 50: \"//div[@class = 'block-text' and contains(text(), '\\nDownload ')]/span\",\n",
       " 52: \"//div[@class = 'faqs']\",\n",
       " 53: \"//div[@class = 'faqs']/p\",\n",
       " 54: \"//div[@class = 'tab' and contains(text(), '\\nWhat is N')]\",\n",
       " 55: \"//div[@class = 'tab' and contains(text(), '\\nWhat is N')]/p\",\n",
       " 71: \"//div[@class = 'plus' and contains(text(), '+')]\",\n",
       " 57: \"//div[@class = 'tab' and contains(text(), '\\nHow much ')]\",\n",
       " 58: \"//div[@class = 'tab' and contains(text(), '\\nHow much ')]/p\",\n",
       " 60: \"//div[@class = 'tab' and contains(text(), '\\nWhere can')]\",\n",
       " 61: \"//div[@class = 'tab' and contains(text(), '\\nWhere can')]/p\",\n",
       " 63: \"//div[@class = 'tab' and contains(text(), '\\nHow do I ')]\",\n",
       " 64: \"//div[@class = 'tab' and contains(text(), '\\nHow do I ')]/p\",\n",
       " 66: \"//div[@class = 'tab' and contains(text(), '\\nWhat can ')]\",\n",
       " 67: \"//div[@class = 'tab' and contains(text(), '\\nWhat can ')]/p\",\n",
       " 69: \"//div[@class = 'tab' and contains(text(), '\\nIs Netfli')]\",\n",
       " 70: \"//div[@class = 'tab' and contains(text(), '\\nIs Netfli')]/p\",\n",
       " 72: \"//div[@class = 'faqs']/span\",\n",
       " 73: \"//div[@class = 'faqs-input']\",\n",
       " 74: \"//input[@class = 'input' and @type = 'text']\",\n",
       " 77: \"//footer[@class = 'footer']\",\n",
       " 78: \"//div[@class = 'fs']\",\n",
       " 79: \"//div[@class = 'f' and contains(text(), '\\nFAQ\\nInves')]\",\n",
       " 80: \"//div[@class = 'f' and contains(text(), '\\nFAQ\\nInves')]/a\",\n",
       " 81: \"//div[@class = 'f' and contains(text(), '\\nFAQ\\nInves')]/a\",\n",
       " 82: \"//div[@class = 'f' and contains(text(), '\\nFAQ\\nInves')]/a\",\n",
       " 83: \"//div[@class = 'f' and contains(text(), '\\nFAQ\\nInves')]/a\",\n",
       " 84: \"//div[@class = 'f' and contains(text(), '\\nFAQ\\nInves')]/a\",\n",
       " 85: \"//div[@class = 'f' and contains(text(), '\\nHelp Cent')]\",\n",
       " 86: \"//div[@class = 'f' and contains(text(), '\\nHelp Cent')]/a\",\n",
       " 87: \"//div[@class = 'f' and contains(text(), '\\nHelp Cent')]/a\",\n",
       " 88: \"//div[@class = 'f' and contains(text(), '\\nHelp Cent')]/a\",\n",
       " 89: \"//div[@class = 'f' and contains(text(), '\\nHelp Cent')]/a\",\n",
       " 90: \"//div[@class = 'f' and contains(text(), '\\nHelp Cent')]/a\",\n",
       " 91: \"//div[@name = 'name1' and @class = 'f']\",\n",
       " 92: \"//div[@name = 'name1' and @class = 'f']/a\",\n",
       " 93: \"//div[@name = 'name1' and @class = 'f']/a\",\n",
       " 94: \"//div[@name = 'name1' and @class = 'f']/a\",\n",
       " 95: \"//div[@name = 'name1' and @class = 'f']/a\",\n",
       " 96: \"//div[@name = 'name1' and @class = 'f']/a\",\n",
       " 97: \"//div[@class = 'f' and contains(text(), '\\nMedia Cen')]\",\n",
       " 98: \"//div[@class = 'f' and contains(text(), '\\nMedia Cen')]/a\",\n",
       " 99: \"//div[@class = 'f' and contains(text(), '\\nMedia Cen')]/a\",\n",
       " 100: \"//div[@class = 'f' and contains(text(), '\\nMedia Cen')]/a\",\n",
       " 101: \"//div[@class = 'f' and contains(text(), '\\nMedia Cen')]/a\",\n",
       " 102: \"//div[@class = 'f' and contains(text(), '\\nMedia Cen')]/a\",\n",
       " 103: \"//footer[@class = 'footer']/div\"}"
      ]
     },
     "execution_count": 69,
     "metadata": {},
     "output_type": "execute_result"
    }
   ],
   "source": [
    "XPATHS"
   ]
  },
  {
   "cell_type": "code",
   "execution_count": 20,
   "metadata": {},
   "outputs": [],
   "source": [
    "from openpyxl import load_workbook\n",
    "from openpyxl.styles import PatternFill, Font, Alignment\n",
    "from pathlib import Path"
   ]
  },
  {
   "cell_type": "code",
   "execution_count": 26,
   "metadata": {},
   "outputs": [
    {
     "name": "stdout",
     "output_type": "stream",
     "text": [
      "['Sheet1']\n"
     ]
    }
   ],
   "source": [
    "wb = None\n",
    "sheets = []\n",
    "def cons(filepath, sheet=None):\n",
    "    filepath = filepath\n",
    "    wb = load_workbook(filepath)\n",
    "    if sheet is None:\n",
    "        for sheet in wb.sheetnames:\n",
    "            sheets.append(sheet)\n",
    "        print(sheets)\n",
    "\n",
    "cons(Path(r\"dummy.xlsx\"))"
   ]
  },
  {
   "cell_type": "code",
   "execution_count": 27,
   "metadata": {},
   "outputs": [
    {
     "name": "stdout",
     "output_type": "stream",
     "text": [
      "['Sheet1']\n"
     ]
    }
   ],
   "source": [
    "print(sheets)"
   ]
  },
  {
   "cell_type": "code",
   "execution_count": 30,
   "metadata": {},
   "outputs": [
    {
     "name": "stdout",
     "output_type": "stream",
     "text": [
      "h\n",
      "<Cell 'Sheet1'.A1>\n",
      "<Cell 'Sheet1'.B1>\n",
      "<Cell 'Sheet1'.C1>\n"
     ]
    }
   ],
   "source": [
    "def color_header(color = '0000FF', font_color = 'FFFFFF'):\n",
    "    header_font = Font(bold=True, color=font_color)\n",
    "    header_fill = PatternFill(start_color=color, end_color=color, fill_type='solid')\n",
    "\n",
    "    for sheet in sheets:\n",
    "        print(sheet[1])\n",
    "        wb = load_workbook(r\"dummy.xlsx\")\n",
    "        sheet = wb[sheet]\n",
    "        for cell in sheet[1]:\n",
    "            print(cell)\n",
    "            cell.font = header_font\n",
    "            cell.fill = header_fill\n",
    "            cell.alignment = Alignment(vertical='top', horizontal='center', wrap_text=True)\n",
    "\n",
    "color_header()"
   ]
  },
  {
   "cell_type": "code",
   "execution_count": null,
   "metadata": {},
   "outputs": [],
   "source": []
  },
  {
   "cell_type": "code",
   "execution_count": null,
   "metadata": {},
   "outputs": [],
   "source": []
  }
 ],
 "metadata": {
  "kernelspec": {
   "display_name": "Python 3",
   "language": "python",
   "name": "python3"
  },
  "language_info": {
   "codemirror_mode": {
    "name": "ipython",
    "version": 3
   },
   "file_extension": ".py",
   "mimetype": "text/x-python",
   "name": "python",
   "nbconvert_exporter": "python",
   "pygments_lexer": "ipython3",
   "version": "3.12.9"
  }
 },
 "nbformat": 4,
 "nbformat_minor": 2
}
